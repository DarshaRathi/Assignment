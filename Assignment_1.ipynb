{
 "cells": [
  {
   "cell_type": "code",
   "execution_count": 1,
   "id": "172d6b00-dc6f-4c13-b2e5-7b322f868f6f",
   "metadata": {},
   "outputs": [],
   "source": [
    " #ASSIGNMENT_1\n",
    "    "
   ]
  },
  {
   "cell_type": "code",
   "execution_count": 21,
   "id": "5382e1c9-017e-4bfc-a1d2-4b3b62d7a46f",
   "metadata": {},
   "outputs": [],
   "source": [
    "#Solution to Q1\n",
    "d=\"Darshan\"  #variable for string\n",
    "l=[1,2,3,\"Darshan\",True,63.49, 5+8j]  #variable for list\n",
    "f=63.49 # variable for float\n",
    "t=(1,2,3,\"Darshan\",True,63.49, 5+8j) #variable for tuple\n",
    "\n",
    "\n"
   ]
  },
  {
   "cell_type": "code",
   "execution_count": 36,
   "id": "f6a9b254-833a-4448-b8e1-1b470fe984cd",
   "metadata": {},
   "outputs": [
    {
     "name": "stdout",
     "output_type": "stream",
     "text": [
      "<class 'str'>\n",
      "<class 'str'>\n",
      "<class 'list'>\n",
      "<class 'int'>\n"
     ]
    }
   ],
   "source": [
    "#solution for Q2\n",
    "var1=''\n",
    "var2='[ DS , ML , Python]'\n",
    "var3 = [ 'DS' , 'ML' , 'Python' ]\n",
    "var4=1\n",
    "# Var1,Var2, are string ,Var3 is list and Var4 is intiger \n",
    "print(type(var1))\n",
    "print(type(var2))\n",
    "print(type(var3))\n",
    "print(type(var4))\n"
   ]
  },
  {
   "cell_type": "code",
   "execution_count": 43,
   "id": "1069aac1-d924-4373-9ea9-98dc4eddfd44",
   "metadata": {},
   "outputs": [
    {
     "name": "stdout",
     "output_type": "stream",
     "text": [
      "2.0\n",
      "2\n",
      "1\n",
      "16\n"
     ]
    }
   ],
   "source": [
    "#SOLUTION FOR Q3\n",
    "#1. / this is division operator\n",
    "a= 10\n",
    "b=5\n",
    "c=4\n",
    "e=6\n",
    "g=2\n",
    "print(a/b)\n",
    "\n",
    "# % this is modulus operator \n",
    "print(a%c)\n",
    "\n",
    "# // this is floor division operator \n",
    "print(a//e)\n",
    "\n",
    "# ** this is exponential opearator\n",
    "print(c**g)"
   ]
  },
  {
   "cell_type": "code",
   "execution_count": 51,
   "id": "15565e6c-493b-4c98-9a0a-5787f973bdd3",
   "metadata": {},
   "outputs": [
    {
     "name": "stdout",
     "output_type": "stream",
     "text": [
      "1 <class 'int'>\n",
      "2 <class 'int'>\n",
      "3 <class 'int'>\n",
      "Darshan <class 'str'>\n",
      "True <class 'bool'>\n",
      "Rathi <class 'str'>\n",
      "False <class 'bool'>\n",
      "63.49 <class 'float'>\n",
      "(5+8j) <class 'complex'>\n",
      "5 <class 'int'>\n"
     ]
    }
   ],
   "source": [
    "'''Q4. Create a list of length 10 of your choice containing multiple types of data. Using for loop print the\n",
    "element and its data type'''\n",
    "\n",
    "l1=[1,2,3,\"Darshan\",True,\"Rathi\",False,63.49, 5+8j,5]\n",
    "for i in l1:\n",
    "    print(i,type(i))\n",
    "    "
   ]
  },
  {
   "cell_type": "code",
   "execution_count": 3,
   "id": "d3bb7d57-e759-4e84-8fa0-9f5ba07138c4",
   "metadata": {},
   "outputs": [
    {
     "name": "stdin",
     "output_type": "stream",
     "text": [
      "Enter value for A 99\n",
      "Enter Value for B 23\n"
     ]
    },
    {
     "name": "stdout",
     "output_type": "stream",
     "text": [
      "A is not divisible by B\n"
     ]
    }
   ],
   "source": [
    "'''Q5. Using a while loop, verify if the number A is purely divisible by number B and if so then how many\n",
    "times it can be divisible.'''\n",
    "\n",
    "A=int(input(\"Enter value for A\"))\n",
    "B=int(input(\"Enter Value for B\"))\n",
    "\n",
    "while A%B==0:\n",
    "    A=A//B\n",
    "    \n",
    "if A==0:\n",
    "    print(\"A is purely Divisible by B\")\n",
    "else:\n",
    "    print(\"A is not divisible by B\")\n",
    " \n",
    "        \n",
    "\n"
   ]
  },
  {
   "cell_type": "code",
   "execution_count": 16,
   "id": "085f3cb6-2df9-4be8-9065-81c4a1cc9c7b",
   "metadata": {},
   "outputs": [
    {
     "name": "stdout",
     "output_type": "stream",
     "text": [
      " 1 is not divisible by 3\n",
      " 2 is not divisible by 3\n",
      "3 is divisible by 3\n",
      " 4 is not divisible by 3\n",
      " 5 is not divisible by 3\n",
      "6 is divisible by 3\n",
      " 7 is not divisible by 3\n",
      " 8 is not divisible by 3\n",
      "9 is divisible by 3\n",
      "12 is divisible by 3\n",
      "15 is divisible by 3\n",
      " 16 is not divisible by 3\n",
      " 10 is not divisible by 3\n",
      "66 is divisible by 3\n",
      " 695 is not divisible by 3\n",
      " 5656 is not divisible by 3\n",
      " 264889 is not divisible by 3\n",
      "123648 is divisible by 3\n",
      "555 is divisible by 3\n",
      "12234 is divisible by 3\n",
      " 545612 is not divisible by 3\n",
      "123456 is divisible by 3\n",
      "666 is divisible by 3\n",
      " 65789 is not divisible by 3\n",
      " 25 is not divisible by 3\n"
     ]
    }
   ],
   "source": [
    "'''Q6. Create a list containing 25 int type data. Using for loop and if-else condition print if the element is\n",
    "divisible by 3 or not.'''\n",
    "\n",
    "Q=[1,2,3,4,5,6,7,8,9,12,15,16,10,66,695,5656,264889,123648,555,12234,545612,123456,666,65789,25]\n",
    "for i in Q:\n",
    "    if i%3==0:\n",
    "        print(f\"{i} is divisible by 3\")\n",
    "    else:\n",
    "        print(f' {i} is not divisible by 3')\n",
    "\n"
   ]
  },
  {
   "cell_type": "code",
   "execution_count": null,
   "id": "33baddbb-70d2-4000-9e1f-e3333b44e8b7",
   "metadata": {},
   "outputs": [],
   "source": [
    "'''Q7. What do you understand about mutable and immutable data types? Give examples for both showing\n",
    "this property.'''\n",
    "#Mutabel Objects= where we can change value with the help of indexes. For example list is mutable. Here values can be modified once created \n",
    "#Immutable objects=  types are those whose values cannot be changed after they are created. Any operation that appears to modify an immutable object actually creates a new object with the modified value. for ex strings are immutable \n",
    "\n",
    "# ex of immutable object\n",
    "list=[0,1,2,4]\n",
    "list[3]=3\n",
    "\n",
    "#ex of immutable objects\n",
    "D=\"Darshan\"\n",
    "D= D + \"Rathi\""
   ]
  },
  {
   "cell_type": "code",
   "execution_count": null,
   "id": "17ae9909-e57e-4759-b08e-7c70df5e4164",
   "metadata": {},
   "outputs": [],
   "source": []
  }
 ],
 "metadata": {
  "kernelspec": {
   "display_name": "Python 3 (ipykernel)",
   "language": "python",
   "name": "python3"
  },
  "language_info": {
   "codemirror_mode": {
    "name": "ipython",
    "version": 3
   },
   "file_extension": ".py",
   "mimetype": "text/x-python",
   "name": "python",
   "nbconvert_exporter": "python",
   "pygments_lexer": "ipython3",
   "version": "3.10.8"
  }
 },
 "nbformat": 4,
 "nbformat_minor": 5
}
